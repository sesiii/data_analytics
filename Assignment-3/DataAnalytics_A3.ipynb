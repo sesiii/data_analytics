{
 "cells": [
  {
   "cell_type": "code",
   "execution_count": null,
   "metadata": {},
   "outputs": [
    {
     "name": "stdout",
     "output_type": "stream",
     "text": [
      "Requirement already satisfied: implicit in /home/dadi/Desktop/data_analytics/venv/lib/python3.12/site-packages (0.7.2)\n",
      "Requirement already satisfied: numpy>=1.17.0 in /home/dadi/Desktop/data_analytics/venv/lib/python3.12/site-packages (from implicit) (2.1.3)\n",
      "Requirement already satisfied: scipy>=0.16 in /home/dadi/Desktop/data_analytics/venv/lib/python3.12/site-packages (from implicit) (1.14.1)\n",
      "Requirement already satisfied: tqdm>=4.27 in /home/dadi/Desktop/data_analytics/venv/lib/python3.12/site-packages (from implicit) (4.67.0)\n",
      "Requirement already satisfied: threadpoolctl in /home/dadi/Desktop/data_analytics/venv/lib/python3.12/site-packages (from implicit) (3.5.0)\n",
      "Requirement already satisfied: tqdm in /home/dadi/Desktop/data_analytics/venv/lib/python3.12/site-packages (4.67.0)\n"
     ]
    }
   ],
   "source": [
    "!pip install implicit\n",
    "!pip install tqdm\n",
    "! pip install pandas\n",
    "! pip install numpy\n",
    "! pip install scikit-learn\n",
    "! pip install matplotlib\n"
   ]
  },
  {
   "cell_type": "code",
   "execution_count": 2,
   "metadata": {
    "id": "b6D8pxIQs4Rc"
   },
   "outputs": [],
   "source": [
    "import pandas as pd\n",
    "import requests\n",
    "import time\n",
    "import re\n",
    "import logging\n",
    "import os\n",
    "from typing import List, Optional"
   ]
  },
  {
   "cell_type": "code",
   "execution_count": 3,
   "metadata": {
    "id": "eH9WLXB_uAqC"
   },
   "outputs": [],
   "source": [
    "# Configure logging\n",
    "logging.basicConfig(\n",
    "    level=logging.INFO,\n",
    "    format='%(asctime)s - %(levelname)s - %(message)s',\n",
    "    handlers=[\n",
    "        logging.StreamHandler(),\n",
    "        logging.FileHandler('script.log')\n",
    "    ]\n",
    ")\n",
    "logger = logging.getLogger(__name__)"
   ]
  },
  {
   "cell_type": "code",
   "execution_count": 4,
   "metadata": {
    "id": "i8aQY_DXuC_y"
   },
   "outputs": [],
   "source": [
    "class MovieDataFetcher:\n",
    "    def __init__(self, api_key: str, input_file: str, output_file: str):\n",
    "        self.api_key = api_key\n",
    "        self.input_file = input_file\n",
    "        self.output_file = output_file\n",
    "        self.checkpoint_file = 'checkpoint.txt'\n",
    "        self.movies_df = pd.read_csv(input_file)\n",
    "        self.start_index = self._load_checkpoint()\n",
    "\n",
    "        # Initialize or load the output DataFrame\n",
    "        if os.path.exists(self.output_file):\n",
    "            self.processed_df = pd.read_csv(self.output_file)\n",
    "            logger.info(f\"Loaded existing output file with {len(self.processed_df)} entries\")\n",
    "        else:\n",
    "            self.processed_df = pd.DataFrame(columns=self.movies_df.columns.tolist() + ['top_actors'])\n",
    "            logger.info(\"Created new output DataFrame\")\n",
    "\n",
    "    def _load_checkpoint(self) -> int:\n",
    "        \"\"\"Load the checkpoint or return 0 if no checkpoint exists.\"\"\"\n",
    "        if os.path.exists(self.checkpoint_file):\n",
    "            with open(self.checkpoint_file, 'r') as f:\n",
    "                index = int(f.read().strip())\n",
    "                logger.info(f\"Resuming from index {index}\")\n",
    "                return index\n",
    "        return 0\n",
    "\n",
    "    def _save_checkpoint(self, index: int) -> None:\n",
    "        \"\"\"Save the current processing index to checkpoint file.\"\"\"\n",
    "        with open(self.checkpoint_file, 'w') as f:\n",
    "            f.write(str(index))\n",
    "\n",
    "    @staticmethod\n",
    "    def extract_year(title: str) -> Optional[str]:\n",
    "        \"\"\"Extract year from movie title.\"\"\"\n",
    "        match = re.search(r'\\((\\d{4})\\)', title)\n",
    "        return match.group(1) if match else None\n",
    "\n",
    "    def get_top_actors(self, movie_title: str, year: Optional[str]) -> List[str]:\n",
    "        \"\"\"Fetch top actors for a movie from TMDB API.\"\"\"\n",
    "        search_url = f\"https://api.themoviedb.org/3/search/movie\"\n",
    "        params = {\n",
    "            'api_key': self.api_key,\n",
    "            'query': movie_title,\n",
    "            'year': year\n",
    "        }\n",
    "\n",
    "        try:\n",
    "            search_response = requests.get(search_url, params=params).json()\n",
    "\n",
    "            if not search_response.get('results'):\n",
    "                logger.warning(f\"No results found for {movie_title} ({year})\")\n",
    "                return []\n",
    "\n",
    "            movie_id = search_response['results'][0]['id']\n",
    "            credits_url = f\"https://api.themoviedb.org/3/movie/{movie_id}/credits\"\n",
    "            credits_params = {'api_key': self.api_key}\n",
    "\n",
    "            credits_response = requests.get(credits_url, params=credits_params).json()\n",
    "            top_actors = [actor['name'] for actor in credits_response.get('cast', [])[:5]]\n",
    "\n",
    "            return top_actors\n",
    "\n",
    "        except requests.exceptions.RequestException as e:\n",
    "            logger.error(f\"API request failed for {movie_title} ({year}): {e}\")\n",
    "            return []\n",
    "        except KeyError as e:\n",
    "            logger.error(f\"Unexpected API response format for {movie_title} ({year}): {e}\")\n",
    "            return []\n",
    "\n",
    "    def update_and_save_progress(self, index: int, row: pd.Series, top_actors: List[str]) -> None:\n",
    "        \"\"\"Update the processed DataFrame and save progress.\"\"\"\n",
    "        # Create a new row with all the original data plus top_actors\n",
    "        new_row = row.to_dict()\n",
    "        new_row['top_actors'] = ', '.join(top_actors)\n",
    "\n",
    "        # If the index exists in processed_df, update it; otherwise append\n",
    "        if index < len(self.processed_df):\n",
    "            self.processed_df.loc[index] = new_row\n",
    "        else:\n",
    "            self.processed_df = pd.concat([self.processed_df, pd.DataFrame([new_row])], ignore_index=True)\n",
    "\n",
    "        # Save to CSV\n",
    "        self.processed_df.to_csv(self.output_file, index=False)\n",
    "        logger.info(f\"Saved progress for movie {index}: {row['title']}\")\n",
    "\n",
    "        # Update checkpoint\n",
    "        self._save_checkpoint(index)\n",
    "\n",
    "    def process_movies(self) -> None:\n",
    "        \"\"\"Process all movies and update the CSV file.\"\"\"\n",
    "        total_movies = len(self.movies_df)\n",
    "\n",
    "        for index, row in self.movies_df.iterrows():\n",
    "            if index < self.start_index:\n",
    "                continue\n",
    "\n",
    "            movie_title = row['title']\n",
    "            year = self.extract_year(movie_title)\n",
    "            movie_title_clean = re.sub(r'\\(\\d{4}\\)', '', movie_title).strip()\n",
    "\n",
    "            logger.info(f\"Processing {index + 1}/{total_movies}: {movie_title_clean} ({year})\")\n",
    "\n",
    "            # Implement retry logic\n",
    "            retries = 3\n",
    "            top_actors = []\n",
    "\n",
    "            for attempt in range(retries):\n",
    "                try:\n",
    "                    top_actors = self.get_top_actors(movie_title_clean, year)\n",
    "                    if top_actors:\n",
    "                        logger.info(f\"Found actors for {movie_title_clean}: {', '.join(top_actors)}\")\n",
    "                        break\n",
    "                    time.sleep(1)\n",
    "                except Exception as e:\n",
    "                    logger.warning(f\"Attempt {attempt + 1} failed: {e}\")\n",
    "                    if attempt < retries - 1:\n",
    "                        time.sleep(5)\n",
    "\n",
    "            # Update the processed DataFrame and save progress\n",
    "            self.update_and_save_progress(index, row, top_actors)\n",
    "\n",
    "            # Respect API rate limits\n",
    "            time.sleep(0.25)"
   ]
  },
  {
   "cell_type": "code",
   "execution_count": 5,
   "metadata": {
    "id": "JS6l4Ch1uDY9"
   },
   "outputs": [
    {
     "name": "stderr",
     "output_type": "stream",
     "text": [
      "2024-11-15 14:53:02,004 - INFO - Resuming from index 19999\n",
      "2024-11-15 14:53:02,065 - INFO - Loaded existing output file with 20000 entries\n",
      "2024-11-15 14:53:02,770 - INFO - Processing 20000/20000: Farmer Seeking Love (2022)\n",
      "2024-11-15 14:53:03,099 - INFO - Found actors for Farmer Seeking Love: Donna Benedicto, Jesse Hutch, Tanya Clarke, Andrew Di Rosa, Jake Lewis\n",
      "2024-11-15 14:53:03,183 - INFO - Saved progress for movie 19999: Farmer Seeking Love (2022)\n",
      "2024-11-15 14:53:03,436 - INFO - Processing completed successfully\n"
     ]
    }
   ],
   "source": [
    "def main():\n",
    "    # Configuration\n",
    "    API_KEY = '5fa8e2a358a75b3adf88bb6aaf916598'\n",
    "    INPUT_FILE = 'movies_set1.csv'\n",
    "    OUTPUT_FILE = 'movies_with_actors.csv'\n",
    "\n",
    "    try:\n",
    "        fetcher = MovieDataFetcher(API_KEY, INPUT_FILE, OUTPUT_FILE)\n",
    "        fetcher.process_movies()\n",
    "        logger.info(\"Processing completed successfully\")\n",
    "    except Exception as e:\n",
    "        logger.error(f\"Script failed: {e}\")\n",
    "        raise\n",
    "\n",
    "if __name__ == \"__main__\":\n",
    "    main()"
   ]
  },
  {
   "cell_type": "code",
   "execution_count": 6,
   "metadata": {
    "id": "6svCkHgLuDs_"
   },
   "outputs": [],
   "source": [
    "import pandas as pd\n",
    "\n",
    "# Load the datasets\n",
    "ratings_df = pd.read_csv('ratings_set1.csv')\n",
    "movies_actors_df = pd.read_csv('movies_with_actors.csv')"
   ]
  },
  {
   "cell_type": "code",
   "execution_count": 7,
   "metadata": {
    "id": "wcec1pv4uOpd"
   },
   "outputs": [],
   "source": [
    "# Merge the datasets on movieId\n",
    "merged_df = pd.merge(ratings_df, movies_actors_df, on='movieId')\n",
    "\n",
    "# Explode the top_actors column to have one actor per row\n",
    "merged_df['top_actors'] = merged_df['top_actors'].str.split(', ')\n",
    "exploded_df = merged_df.explode('top_actors')"
   ]
  },
  {
   "cell_type": "code",
   "execution_count": 8,
   "metadata": {
    "colab": {
     "base_uri": "https://localhost:8080/"
    },
    "id": "lgJdHlxWuPLG",
    "outputId": "e15bf9ab-384d-47ce-c1e8-b2e185f19928"
   },
   "outputs": [
    {
     "name": "stdout",
     "output_type": "stream",
     "text": [
      "User-actor rating matrix saved to 'user_actor_ratings.csv'\n"
     ]
    }
   ],
   "source": [
    "# Group by userId and top_actors to calculate the average rating\n",
    "user_actor_ratings = exploded_df.groupby(['userId', 'top_actors'])['rating'].mean().reset_index()\n",
    "\n",
    "# Pivot the table to create the user-actor rating matrix\n",
    "user_actor_matrix = user_actor_ratings.pivot(index='userId', columns='top_actors', values='rating')\n",
    "\n",
    "# Fill NaN values with 0 (optional, depending on your use case)\n",
    "user_actor_matrix = user_actor_matrix.fillna(0)\n",
    "\n",
    "# Save the user-actor rating matrix to a CSV file\n",
    "user_actor_matrix.to_csv('user_actor_ratings.csv')\n",
    "\n",
    "print(\"User-actor rating matrix saved to 'user_actor_ratings.csv'\")"
   ]
  },
  {
   "cell_type": "code",
   "execution_count": 9,
   "metadata": {
    "colab": {
     "base_uri": "https://localhost:8080/",
     "height": 397
    },
    "id": "teKWfJs7uU-k",
    "outputId": "f55bac84-b31f-49f4-e1fe-e92b8f332003"
   },
   "outputs": [
    {
     "name": "stderr",
     "output_type": "stream",
     "text": [
      "/home/dadi/Desktop/data_analytics/venv/lib/python3.12/site-packages/tqdm/auto.py:21: TqdmWarning: IProgress not found. Please update jupyter and ipywidgets. See https://ipywidgets.readthedocs.io/en/stable/user_install.html\n",
      "  from .autonotebook import tqdm as notebook_tqdm\n"
     ]
    }
   ],
   "source": [
    "import pandas as pd\n",
    "import numpy as np\n",
    "from scipy.sparse import csr_matrix\n",
    "\n",
    "from implicit.als import AlternatingLeastSquares\n",
    "import pickle\n",
    "from threadpoolctl import threadpool_limits"
   ]
  },
  {
   "cell_type": "code",
   "execution_count": 10,
   "metadata": {
    "id": "WY28nr09uYpS"
   },
   "outputs": [],
   "source": [
    "# Set OpenBLAS to use single thread to avoid performance issues\n",
    "with threadpool_limits(limits=1, user_api='blas'):\n",
    "\n",
    "    def load_and_prepare_data(filepath):\n",
    "        \"\"\"Load and prepare the user-actor rating matrix.\"\"\"\n",
    "        # Load the user-actor rating matrix\n",
    "        user_actor_matrix = pd.read_csv(filepath, index_col=0)\n",
    "\n",
    "        # Convert the DataFrame to a sparse matrix format suitable for implicit\n",
    "        user_actor_matrix = user_actor_matrix.fillna(0)\n",
    "\n",
    "        # Convert to CSR matrix\n",
    "        sparse_matrix = csr_matrix(user_actor_matrix.values)\n",
    "\n",
    "        return user_actor_matrix, sparse_matrix"
   ]
  },
  {
   "cell_type": "code",
   "execution_count": 11,
   "metadata": {
    "id": "DOW-iY-juY7c"
   },
   "outputs": [],
   "source": [
    "    def train_model(sparse_matrix, factors=100, regularization=0.05, iterations=30):\n",
    "        \"\"\"Train the ALS model.\"\"\"\n",
    "        model = AlternatingLeastSquares(\n",
    "            factors=factors,\n",
    "            regularization=regularization,\n",
    "            iterations=iterations\n",
    "        )\n",
    "\n",
    "        # Train the model\n",
    "        model.fit(sparse_matrix)\n",
    "        return model"
   ]
  },
  {
   "cell_type": "code",
   "execution_count": 12,
   "metadata": {
    "id": "jdYV1KkIuZNp"
   },
   "outputs": [],
   "source": [
    "    def get_top_n_recommendations(model, user_id, user_actor_matrix, sparse_matrix, n=10):\n",
    "            \"\"\"Get top N actor recommendations for a user.\"\"\"\n",
    "            try:\n",
    "                # Get the user's index\n",
    "                if user_id not in user_actor_matrix.index:\n",
    "                    raise ValueError(f\"User ID {user_id} not found in the dataset\")\n",
    "\n",
    "                user_index = user_actor_matrix.index.get_loc(user_id)\n",
    "\n",
    "                # Get recommendations\n",
    "                ids, scores = model.recommend(\n",
    "                    userid=user_index,\n",
    "                    user_items=sparse_matrix[user_index],\n",
    "                    N=n,\n",
    "                    filter_already_liked_items=True\n",
    "                )\n",
    "\n",
    "                # Get actor names if they're in your columns\n",
    "                actor_names = user_actor_matrix.columns[ids].tolist()\n",
    "\n",
    "                # Create recommendations dictionary\n",
    "                recommendations = {\n",
    "                    'actor_indices': ids,\n",
    "                    'scores': scores,\n",
    "                    'actor_names': actor_names\n",
    "                }\n",
    "\n",
    "                return recommendations\n",
    "\n",
    "            except Exception as e:\n",
    "                print(f\"Error getting recommendations: {str(e)}\")\n",
    "                return None"
   ]
  },
  {
   "cell_type": "code",
   "execution_count": 13,
   "metadata": {
    "id": "iquyrVCiuZgx"
   },
   "outputs": [],
   "source": [
    "    def save_model(model, filepath='user_actor_model.pkl'):\n",
    "            \"\"\"Save the trained model to a file.\"\"\"\n",
    "            try:\n",
    "                with open(filepath, 'wb') as f:\n",
    "                    pickle.dump(model, f)\n",
    "                print(f\"Model successfully saved to '{filepath}'\")\n",
    "            except Exception as e:\n",
    "                print(f\"Error saving model: {str(e)}\")"
   ]
  },
  {
   "cell_type": "code",
   "execution_count": 14,
   "metadata": {
    "id": "ymJjd13juvVI"
   },
   "outputs": [
    {
     "name": "stderr",
     "output_type": "stream",
     "text": [
      "/home/dadi/Desktop/data_analytics/venv/lib/python3.12/site-packages/implicit/cpu/als.py:95: RuntimeWarning: OpenBLAS is configured to use 16 threads. It is highly recommended to disable its internal threadpool by setting the environment variable 'OPENBLAS_NUM_THREADS=1' or by calling 'threadpoolctl.threadpool_limits(1, \"blas\")'. Having OpenBLAS use a threadpool can lead to severe performance issues here.\n",
      "  check_blas_config()\n",
      "100%|██████████| 30/30 [00:02<00:00, 10.49it/s]\n"
     ]
    },
    {
     "name": "stdout",
     "output_type": "stream",
     "text": [
      "\n",
      "Top 10 recommended actors:\n",
      "Actor: Charles Durning, Score: 0.7033\n",
      "Actor: Lorraine Bracco, Score: 0.6586\n",
      "Actor: Dennis Quaid, Score: 0.6305\n",
      "Actor: Bridget Fonda, Score: 0.6007\n",
      "Actor: Kristin Scott Thomas, Score: 0.5894\n",
      "Actor: Madeleine Stowe, Score: 0.5843\n",
      "Actor: Paul Sorvino, Score: 0.5808\n",
      "Actor: Talia Shire, Score: 0.5651\n",
      "Actor: Ray Liotta, Score: 0.5638\n",
      "Actor: Hugh Grant, Score: 0.5524\n",
      "\n",
      "Relevant actors for user 130: ['Al Pacino', 'Aldo Giuffrè', 'Alec Guinness', 'Alexis Smith', 'Alfre Woodard', 'Amy Yasbeck', 'Angela Bassett', 'Anna Paquin', 'Antonio Banderas', 'Arnold Schwarzenegger', 'Brad Pitt', 'Bruce Ramsay', 'Cameron Diaz', 'Cathy Moriarty', 'Chazz Palminteri', 'Cheech Marin', \"Chris O'Donnell\", 'Christian Slater', 'Christopher Walken', 'Cliff Curtis', 'Clint Eastwood', 'Corin Redgrave', 'Cybill Shepherd', 'Daniel Day-Lewis', 'Daniel Roebuck', 'David Duchovny', 'Dee Wallace', 'Demi Moore', 'Dennis Hopper', 'Diane Keaton', 'Donald Sutherland', 'Drew Barrymore', 'Dylan Baker', 'Earl Boen', 'Edward Furlong', 'Edward Norton', 'Eli Wallach', 'Elisabeth Shue', 'Emma Thompson', 'Eric Stoltz', 'Ethan Hawke', 'Ewan McGregor', 'Ewen Bremner', \"Floyd 'Red Crow' Westerman\", 'Francis Capra', 'Frank Vincent', 'Gale Hansen', 'Gary Oldman', 'Gary Sinise', 'Geraldine Chaplin', 'Graham Greene', 'Harrison Ford', 'Harvey Keitel', 'Henry Thomas', 'Holly Hunter', 'Jack Hawkins', 'Jacqueline Kim', 'James Donald', 'Jean-Hugues Anglade', 'Jeroen Krabbé', 'Jessica Lange', 'Jim Carrey', 'Joaquim de Almeida', 'Jodie Foster', 'Joe Pantoliano', 'Joe Pesci', 'John Cazale', 'John Hurt', 'John Lynch', 'John Mahoney', 'John Savage', 'Jonny Lee Miller', 'Josh Charles', 'Julian Sands', 'Julie Delpy', 'Juliette Lewis', 'Kevin Costner', 'Kevin McKidd', 'Laura Linney', 'Lee Van Cleef', 'Liam Neeson', 'Lillo Brancato', 'Linda Hamilton', 'Luigi Pistilli', 'Mary McDonnell', 'Meryl Streep', 'Michael Douglas', 'Michael Wincott', 'Michelle Forbes', 'Michelle Pfeiffer', 'Mykelti Williamson', 'Nicholas Colasanto', 'Nicolas Cage', 'Nicole Kidman', 'Patricia Arquette', 'Pete Postlethwaite', 'Peter Boyle', 'Peter Coyote', 'Peter Greene', 'Peter Riegert', 'Ralph Fiennes', 'Richard Gere', 'Richard Lewis', 'Robert Carlyle', 'Robert De Niro', 'Robert Duvall', 'Robert MacNaughton', 'Robert Patrick', 'Robert Sean Leonard', 'Robin Williams', 'Robin Wright', 'Rodney A. Grant', 'Sally Field', 'Salma Hayek Pinault', 'Sam Neill', 'Sessue Hayakawa', 'Sierra Pecheur', 'Stephen Rea', 'Steve Buscemi', 'Steven Weber', 'Tai Thai', 'Taral Hicks', 'Tim Roth', 'Tom Cruise', 'Tom Hanks', 'Tom Sizemore', 'Tommy Lee Jones', 'Val Kilmer', 'William Holden', 'Winona Ryder']\n",
      "Model successfully saved to 'user_actor_model.pkl'\n"
     ]
    }
   ],
   "source": [
    "    def main():\n",
    "            try:\n",
    "                # Load and prepare data\n",
    "                user_actor_matrix, sparse_matrix = load_and_prepare_data('user_actor_ratings.csv')\n",
    "\n",
    "                # Train model\n",
    "                model = train_model(sparse_matrix)\n",
    "\n",
    "                # Example usage\n",
    "\n",
    "                user_id = 5  # Replace with actual user ID\n",
    "                user_id= int(input(\"Enter the user ID: \"))\n",
    "                recommendations = get_top_n_recommendations(\n",
    "                    model,\n",
    "                    user_id,\n",
    "                    user_actor_matrix,\n",
    "                    sparse_matrix,\n",
    "                    n=10\n",
    "                )\n",
    "\n",
    "                if recommendations:\n",
    "                    print(\"\\nTop 10 recommended actors:\")\n",
    "                    for name, score in zip(recommendations['actor_names'], recommendations['scores']):\n",
    "                        print(f\"Actor: {name}, Score: {score:.4f}\")\n",
    "\n",
    "                    # Get relevant actors for evaluation\n",
    "                    relevant_actors = user_actor_matrix.loc[user_id][user_actor_matrix.loc[user_id] > 0].index.tolist()\n",
    "                    print(f\"\\nRelevant actors for user {user_id}: {relevant_actors}\")\n",
    "\n",
    "                # Save model\n",
    "                save_model(model)\n",
    "\n",
    "            except Exception as e:\n",
    "                print(f\"An error occurred: {str(e)}\")\n",
    "\n",
    "    if __name__ == \"__main__\":\n",
    "        main()"
   ]
  },
  {
   "cell_type": "code",
   "execution_count": 17,
   "metadata": {
    "id": "1loIvT6IvH6g"
   },
   "outputs": [],
   "source": [
    "import numpy as np\n",
    "import pandas as pd\n",
    "import matplotlib.pyplot as plt \n",
    "\n",
    "class RecommenderEvaluator:\n",
    "    def __init__(self, user_actor_matrix, test_size=0.2, random_state=42):\n",
    "        \"\"\"\n",
    "        Initialize the evaluator with the user-actor matrix.\n",
    "        \"\"\"\n",
    "        self.user_actor_matrix = user_actor_matrix\n",
    "        self.test_size = test_size\n",
    "        self.random_state = random_state\n",
    "        self.train_matrix = None\n",
    "        self.test_matrix = None\n",
    "        self.model = None\n",
    "        np.random.seed(random_state)\n",
    "\n",
    "    def prepare_train_test_split(self):\n",
    "        \"\"\"Split the data into training and testing sets.\"\"\"\n",
    "        print(\"Preparing train-test split...\")\n",
    "        matrix_array = self.user_actor_matrix.values\n",
    "        mask = np.random.rand(*matrix_array.shape) < (1 - self.test_size)\n",
    "\n",
    "        train = matrix_array * mask\n",
    "        test = matrix_array * ~mask\n",
    "\n",
    "        self.train_matrix = pd.DataFrame(\n",
    "            train,\n",
    "            index=self.user_actor_matrix.index,\n",
    "            columns=self.user_actor_matrix.columns\n",
    "        )\n",
    "        self.test_matrix = pd.DataFrame(\n",
    "            test,\n",
    "            index=self.user_actor_matrix.index,\n",
    "            columns=self.user_actor_matrix.columns\n",
    "        )\n",
    "\n",
    "        return csr_matrix(train), csr_matrix(test)\n",
    "\n",
    "    def train_model(self, factors=50, regularization=0.1, iterations=20):\n",
    "        \"\"\"Train the ALS model on the training data.\"\"\"\n",
    "        print(\"Training the ALS model...\")\n",
    "        train_sparse, _ = self.prepare_train_test_split()\n",
    "\n",
    "        with threadpool_limits(limits=1, user_api='blas'):\n",
    "            self.model = AlternatingLeastSquares(\n",
    "                factors=factors,\n",
    "                regularization=regularization,\n",
    "                iterations=iterations\n",
    "            )\n",
    "            self.model.fit(train_sparse)\n",
    "\n",
    "        print(\"Model training completed.\")\n",
    "        return self.model\n",
    "\n",
    "    def get_recommendations(self, user_id, k=10):\n",
    "        \"\"\"Get recommendations for a user.\"\"\"\n",
    "        user_idx = self.train_matrix.index.get_loc(user_id)\n",
    "        user_items = csr_matrix(self.train_matrix.loc[user_id].values.reshape(1, -1))\n",
    "\n",
    "        try:\n",
    "            recommended_ids, scores = self.model.recommend(\n",
    "                userid=user_idx,\n",
    "                user_items=user_items,\n",
    "                N=k,\n",
    "                filter_already_liked_items=True\n",
    "            )\n",
    "            return recommended_ids, scores\n",
    "        except Exception as e:\n",
    "            print(f\"Error getting recommendations for user {user_id}: {str(e)}\")\n",
    "            return [], []\n",
    "\n",
    "    def precision_at_k(self, user_id, k=10):\n",
    "        \"\"\"Calculate Precision@k for a user.\"\"\"\n",
    "        actual = set(self.test_matrix.columns[self.test_matrix.loc[user_id] > 0].tolist())\n",
    "\n",
    "        if not actual:\n",
    "            return 0.0\n",
    "\n",
    "        recommended_ids, _ = self.get_recommendations(user_id, k)\n",
    "\n",
    "        if len(recommended_ids) == 0:\n",
    "            return 0.0\n",
    "\n",
    "        predicted = set(self.train_matrix.columns[recommended_ids].tolist())\n",
    "\n",
    "        return len(actual.intersection(predicted)) / k if k > 0 else 0.0\n",
    "\n",
    "    def recall_at_k(self, user_id, k=10):\n",
    "        \"\"\"Calculate Recall@k for a user.\"\"\"\n",
    "        actual = set(self.test_matrix.columns[self.test_matrix.loc[user_id] > 0].tolist())\n",
    "\n",
    "        if not actual:\n",
    "            return 0.0\n",
    "\n",
    "        recommended_ids, _ = self.get_recommendations(user_id, k)\n",
    "\n",
    "        if len(recommended_ids) == 0:\n",
    "            return 0.0\n",
    "\n",
    "        predicted = set(self.train_matrix.columns[recommended_ids].tolist())\n",
    "\n",
    "        return len(actual.intersection(predicted)) / len(actual) if len(actual) > 0 else 0.0\n",
    "\n",
    "    def ndcg_at_k(self, user_id, k=10):\n",
    "        \"\"\"Calculate NDCG@k for a user.\"\"\"\n",
    "        actual_ratings = self.test_matrix.loc[user_id]\n",
    "        actual_ratings = actual_ratings[actual_ratings > 0]\n",
    "\n",
    "        if len(actual_ratings) == 0:\n",
    "            return 0.0\n",
    "\n",
    "        recommended_ids, scores = self.get_recommendations(user_id, k)\n",
    "\n",
    "        if len(recommended_ids) == 0:\n",
    "            return 0.0\n",
    "\n",
    "        dcg = 0.0\n",
    "        for i, item_id in enumerate(recommended_ids):\n",
    "            item_name = self.train_matrix.columns[item_id]\n",
    "            if item_name in actual_ratings.index:\n",
    "                dcg += actual_ratings[item_name] / np.log2(i + 2)\n",
    "\n",
    "        ideal_ratings = sorted(actual_ratings.values, reverse=True)[:k]\n",
    "        idcg = sum(rating / np.log2(i + 2) for i, rating in enumerate(ideal_ratings))\n",
    "\n",
    "        return dcg / idcg if idcg > 0 else 0.0\n",
    "\n",
    "    def evaluate_model(self, k=10, sample_size=None):\n",
    "        \"\"\"Evaluate the model using all metrics.\"\"\"\n",
    "        if self.model is None:\n",
    "            raise ValueError(\"Model needs to be trained first\")\n",
    "\n",
    "        users = self.user_actor_matrix.index.tolist()\n",
    "        if sample_size and sample_size < len(users):\n",
    "            users = np.random.choice(users, size=sample_size, replace=False)\n",
    "\n",
    "        metrics = {\n",
    "            f'precision@{k}': [],\n",
    "            f'recall@{k}': [],\n",
    "            f'ndcg@{k}': []\n",
    "        }\n",
    "            \n",
    "\n",
    "\n",
    "        print(\"Evaluating model...\")\n",
    "        for user_id in tqdm(users, desc=\"Evaluating users\"):\n",
    "            try:\n",
    "                metrics[f'precision@{k}'].append(self.precision_at_k(user_id, k))\n",
    "                metrics[f'recall@{k}'].append(self.recall_at_k(user_id, k))\n",
    "                metrics[f'ndcg@{k}'].append(self.ndcg_at_k(user_id, k))\n",
    "            except Exception as e:\n",
    "                print(f\"Error evaluating user {user_id}: {str(e)}\")\n",
    "                continue\n",
    "\n",
    "        return {\n",
    "            metric: np.mean(scores) for metric, scores in metrics.items()\n",
    "        }\n",
    "    def visualize_top_rated_actors(evaluator, user_id, k=10):\n",
    "        \"\"\"Visualize the top-rated actors for a given user.\"\"\"\n",
    "        recommended_ids, scores = evaluator.get_recommendations(user_id, k)\n",
    "        actor_names = evaluator.train_matrix.columns[recommended_ids]\n",
    "        \n",
    "        plt.figure(figsize=(10, 6))\n",
    "        plt.barh(actor_names, scores, color='skyblue')\n",
    "        plt.xlabel('Scores')\n",
    "        plt.title(f'Top {k} Recommended Actors for User {user_id}')\n",
    "        plt.gca().invert_yaxis()\n",
    "        plt.show()"
   ]
  },
  {
   "cell_type": "code",
   "execution_count": 18,
   "metadata": {
    "id": "kIPHDjQJvIRZ"
   },
   "outputs": [
    {
     "name": "stdout",
     "output_type": "stream",
     "text": [
      "Loading data...\n",
      "Initializing evaluator...\n",
      "Training model...\n",
      "Training the ALS model...\n",
      "Preparing train-test split...\n"
     ]
    },
    {
     "name": "stderr",
     "output_type": "stream",
     "text": [
      "100%|██████████| 20/20 [00:01<00:00, 16.13it/s]\n"
     ]
    },
    {
     "name": "stdout",
     "output_type": "stream",
     "text": [
      "Model training completed.\n",
      "Evaluating model...\n"
     ]
    },
    {
     "name": "stderr",
     "output_type": "stream",
     "text": [
      "Evaluating users: 100%|██████████| 7989/7989 [00:19<00:00, 406.50it/s]\n"
     ]
    },
    {
     "name": "stdout",
     "output_type": "stream",
     "text": [
      "\n",
      "Evaluation Results:\n",
      "precision@10: 0.5481\n",
      "recall@10: 0.3787\n",
      "ndcg@10: 0.6319\n"
     ]
    },
    {
     "data": {
      "image/png": "[encoded data removed]",
      "text/plain": [
       "<Figure size 1000x600 with 1 Axes>"
      ]
     },
     "metadata": {},
     "output_type": "display_data"
    },
    {
     "name": "stdout",
     "output_type": "stream",
     "text": [
      "\n",
      "Evaluation and visualization completed.\n"
     ]
    }
   ],
   "source": [
    "from tqdm import tqdm\n",
    "import pandas as pd\n",
    "import numpy as np\n",
    "\n",
    "def main():\n",
    "    # Load data\n",
    "    print(\"Loading data...\")\n",
    "    user_actor_matrix = pd.read_csv('user_actor_ratings.csv', index_col=0)\n",
    "\n",
    "    # Initialize evaluator\n",
    "    print(\"Initializing evaluator...\")\n",
    "    evaluator = RecommenderEvaluator(user_actor_matrix)\n",
    "\n",
    "    # Train model\n",
    "    print(\"Training model...\")\n",
    "    evaluator.train_model()\n",
    "\n",
    "    # Evaluate model\n",
    "    # print(\"\\nEvaluating model...\")\n",
    "    # Use a smaller sample size for faster evaluation during testing\n",
    "    metrics = evaluator.evaluate_model(k=10, sample_size=20000)  # Adjust sample_size as needed\n",
    "\n",
    "    # Print results\n",
    "    print(\"\\nEvaluation Results:\")\n",
    "    for metric, score in metrics.items():\n",
    "        print(f\"{metric}: {score:.4f}\")\n",
    "\n",
    "    # Visualize top-rated actors for a user\n",
    "    user_id = 5  \n",
    "    evaluator.visualize_top_rated_actors(user_id, k=10)\n",
    "\n",
    "    print(\"\\nEvaluation and visualization completed.\")\n",
    "\n",
    "\n",
    "\n",
    "if __name__ == \"__main__\":\n",
    "    main()"
   ]
  }
 ],
 "metadata": {
  "colab": {
   "provenance": []
  },
  "kernelspec": {
   "display_name": "venv",
   "language": "python",
   "name": "python3"
  },
  "language_info": {
   "codemirror_mode": {
    "name": "ipython",
    "version": 3
   },
   "file_extension": ".py",
   "mimetype": "text/x-python",
   "name": "python",
   "nbconvert_exporter": "python",
   "pygments_lexer": "ipython3",
   "version": "3.12.3"
  }
 },
 "nbformat": 4,
 "nbformat_minor": 0
}
